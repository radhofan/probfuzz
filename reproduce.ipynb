{
 "cells": [
  {
   "cell_type": "markdown",
   "metadata": {},
   "source": [
    "# ProbFuzz Artifact\n",
    "\n",
    "Artifact of the paper \"Testing Probabilistic Programming System\" from ESEC/FSE ’18.\n",
    "\n",
    "To access ChameleonCloud resources, you may need the account to log in to ChameleonCloud. You also need to have a project to allocate resources (e.g., node)."
   ]
  },
  {
   "cell_type": "code",
   "execution_count": 1,
   "metadata": {
    "tags": []
   },
   "outputs": [
    {
     "data": {
      "application/vnd.jupyter.widget-view+json": {
       "model_id": "b0c959651dba48f5a0a3725900891117",
       "version_major": 2,
       "version_minor": 0
      },
      "text/plain": [
       "VBox(children=(Dropdown(description='Select Site', options=('CHI@TACC', 'CHI@UC', 'CHI@EVL', 'CHI@NCAR', 'CHI@…"
      ]
     },
     "metadata": {},
     "output_type": "display_data"
    },
    {
     "data": {
      "application/vnd.jupyter.widget-view+json": {
       "model_id": "4c6ab1c831b8489292ebddcf62fc4f72",
       "version_major": 2,
       "version_minor": 0
      },
      "text/plain": [
       "VBox(children=(Dropdown(description='Select Project', options=('CHI-251412',), value='CHI-251412'), Output()))"
      ]
     },
     "metadata": {},
     "output_type": "display_data"
    }
   ],
   "source": [
    "from chi import context\n",
    "\n",
    "context.version = \"1.0\"\n",
    "\n",
    "context.choose_site(default=\"CHI@TACC\")\n",
    "context.choose_project()"
   ]
  },
  {
   "cell_type": "markdown",
   "metadata": {},
   "source": [
    "### Check available hardware"
   ]
  },
  {
   "cell_type": "code",
   "execution_count": 2,
   "metadata": {
    "tags": []
   },
   "outputs": [
    {
     "name": "stdout",
     "output_type": "stream",
     "text": [
      "There currently are 30 compute_cascadelake_r nodes ready to use\n"
     ]
    }
   ],
   "source": [
    "from chi import hardware\n",
    "\n",
    "node_type = \"compute_cascadelake_r\"\n",
    "available_nodes = hardware.get_nodes(node_type=node_type, filter_reserved=True)\n",
    "if available_nodes:\n",
    "    print(f\"There currently are {len(available_nodes)} {node_type} nodes ready to use\")\n",
    "else:\n",
    "    print(f\"All {node_type} nodes are in use! You could use next_free_timeslot to see how long you need to wait, or use the calendar.\")"
   ]
  },
  {
   "cell_type": "markdown",
   "metadata": {},
   "source": [
    "### Reserve node"
   ]
  },
  {
   "cell_type": "code",
   "execution_count": 3,
   "metadata": {
    "tags": []
   },
   "outputs": [
    {
     "name": "stdout",
     "output_type": "stream",
     "text": [
      "Waiting for lease to start... This can take up to 60 seconds\n"
     ]
    },
    {
     "data": {
      "application/vnd.jupyter.widget-view+json": {
       "model_id": "9c5f31a68dbc499daf3f5ac709624ff0",
       "version_major": 2,
       "version_minor": 0
      },
      "text/plain": [
       "HBox(children=(Label(value=''), IntProgress(value=0, bar_style='success')))"
      ]
     },
     "metadata": {},
     "output_type": "display_data"
    },
    {
     "name": "stdout",
     "output_type": "stream",
     "text": [
      "Lease radhofanazizi_gmail_com-power-management has reached status active\n"
     ]
    }
   ],
   "source": [
    "from chi import lease\n",
    "from datetime import timedelta\n",
    "import os\n",
    "\n",
    "my_lease = lease.Lease(f\"{os.getenv('USER')}-power-management\", duration=timedelta(hours=3))\n",
    "my_lease.add_node_reservation(nodes=[available_nodes[0]]) # or you could use node_type=node_type\n",
    "my_lease.add_fip_reservation(1) # include a floating ip\n",
    "my_lease.submit(idempotent=True)"
   ]
  },
  {
   "cell_type": "markdown",
   "metadata": {},
   "source": [
    "### Create a server on the node"
   ]
  },
  {
   "cell_type": "code",
   "execution_count": 8,
   "metadata": {
    "tags": []
   },
   "outputs": [
    {
     "name": "stdout",
     "output_type": "stream",
     "text": [
      "Waiting for server radhofanazizi_gmail_com-power-management's status to become ACTIVE. This typically takes 10 minutes, but can take up to 20 minutes.\n"
     ]
    },
    {
     "data": {
      "application/vnd.jupyter.widget-view+json": {
       "model_id": "80b0ebe3e48746b5afb08df118ac3f90",
       "version_major": 2,
       "version_minor": 0
      },
      "text/plain": [
       "HBox(children=(Label(value=''), IntProgress(value=0, bar_style='success')))"
      ]
     },
     "metadata": {},
     "output_type": "display_data"
    },
    {
     "name": "stdout",
     "output_type": "stream",
     "text": [
      "Server has moved to status ACTIVE\n"
     ]
    },
    {
     "data": {
      "text/html": [
       "<table style='border-collapse: collapse; width: 100%;'><tr style='background-color: #f2f2f2;'><th style='border: 1px solid #ddd; padding: 8px;'>Attribute</th><th style='border: 1px solid #ddd; padding: 8px;'>radhofanazizi_gmail_com-power-management</th></tr><tr><td style='border: 1px solid #ddd; padding: 8px;'>Id</td><td style='border: 1px solid #ddd; padding: 8px;'>a8e68761-38ad-495b-ba2c-b88e2a917f02</td></tr><tr><td style='border: 1px solid #ddd; padding: 8px;'>Status</td><td style='border: 1px solid #ddd; padding: 8px;'>ACTIVE</td></tr><tr><td style='border: 1px solid #ddd; padding: 8px;'>Image Name</td><td style='border: 1px solid #ddd; padding: 8px;'>CC-Ubuntu22.04</td></tr><tr><td style='border: 1px solid #ddd; padding: 8px;'>Flavor Name</td><td style='border: 1px solid #ddd; padding: 8px;'>baremetal</td></tr><tr><td style='border: 1px solid #ddd; padding: 8px;'>Addresses</td><td style='border: 1px solid #ddd; padding: 8px;'><strong>sharednet1:</strong><br>&nbsp;&nbsp;IP: 10.52.2.85 (v4)<br>&nbsp;&nbsp;Type: fixed<br>&nbsp;&nbsp;MAC: bc:97:e1:c4:30:80<br></td></tr><tr><td style='border: 1px solid #ddd; padding: 8px;'>Network Name</td><td style='border: 1px solid #ddd; padding: 8px;'>sharednet1</td></tr><tr><td style='border: 1px solid #ddd; padding: 8px;'>Created At</td><td style='border: 1px solid #ddd; padding: 8px;'>2025-02-23T15:11:11Z</td></tr><tr><td style='border: 1px solid #ddd; padding: 8px;'>Keypair</td><td style='border: 1px solid #ddd; padding: 8px;'>trovi-ff2f6d9</td></tr><tr><td style='border: 1px solid #ddd; padding: 8px;'>Reservation Id</td><td style='border: 1px solid #ddd; padding: 8px;'>132d9f4d-e73e-4561-9ed4-5598b8b5adbe</td></tr><tr><td style='border: 1px solid #ddd; padding: 8px;'>Host Id</td><td style='border: 1px solid #ddd; padding: 8px;'>b281b13a05d4a4d342f673906de4005142c2819a049809e34ac97306</td></tr><tr><td style='border: 1px solid #ddd; padding: 8px;'>Host Status</td><td style='border: 1px solid #ddd; padding: 8px;'>None</td></tr><tr><td style='border: 1px solid #ddd; padding: 8px;'>Hypervisor Hostname</td><td style='border: 1px solid #ddd; padding: 8px;'>05e4d546-6c73-4d66-8b83-3fad392d149a</td></tr><tr><td style='border: 1px solid #ddd; padding: 8px;'>Is Locked</td><td style='border: 1px solid #ddd; padding: 8px;'>False</td></tr></table>"
      ],
      "text/plain": [
       "<IPython.core.display.HTML object>"
      ]
     },
     "metadata": {},
     "output_type": "display_data"
    }
   ],
   "source": [
    "from chi import server\n",
    "\n",
    "my_server = server.Server(\n",
    "    f\"{os.getenv('USER')}-power-management\",\n",
    "    reservation_id=my_lease.node_reservations[0][\"id\"],\n",
    "    image_name=\"CC-Ubuntu22.04\", # or use image_name\n",
    ")\n",
    "my_server.submit(idempotent=True)"
   ]
  },
  {
   "cell_type": "markdown",
   "metadata": {},
   "source": [
    "### Configure networking on the node"
   ]
  },
  {
   "cell_type": "code",
   "execution_count": 9,
   "metadata": {
    "tags": []
   },
   "outputs": [
    {
     "name": "stdout",
     "output_type": "stream",
     "text": [
      "Checking connectivity to 129.114.109.221 port 22.\n"
     ]
    },
    {
     "data": {
      "application/vnd.jupyter.widget-view+json": {
       "model_id": "59639457bf0d4f19aa4f71c4acbea72b",
       "version_major": 2,
       "version_minor": 0
      },
      "text/plain": [
       "HBox(children=(Label(value=''), IntProgress(value=0, bar_style='success')))"
      ]
     },
     "metadata": {},
     "output_type": "display_data"
    },
    {
     "name": "stdout",
     "output_type": "stream",
     "text": [
      "Connection successful\n"
     ]
    }
   ],
   "source": [
    "fip = my_lease.get_reserved_floating_ips()[0]\n",
    "my_server.associate_floating_ip(fip)\n",
    "my_server.check_connectivity(host=fip)"
   ]
  },
  {
   "cell_type": "markdown",
   "metadata": {},
   "source": [
    "## Run Probfuzz\n",
    "\n",
    "Now, we can finally run Probfuzz. First we need to clone the github repo first and then run the reproduce.sh script which contain the instructions from README.md\n",
    "packaged into a bash file"
   ]
  },
  {
   "cell_type": "code",
   "execution_count": 34,
   "metadata": {
    "tags": []
   },
   "outputs": [
    {
     "name": "stderr",
     "output_type": "stream",
     "text": [
      "Cloning into 'probfuzz'...\n"
     ]
    },
    {
     "data": {
      "text/plain": [
       "<Result cmd='git clone https://github.com/radhofan/probfuzz.git' exited=0>"
      ]
     },
     "execution_count": 34,
     "metadata": {},
     "output_type": "execute_result"
    }
   ],
   "source": [
    "my_server.execute(\"git clone https://github.com/radhofan/probfuzz.git\")"
   ]
  },
  {
   "cell_type": "code",
   "execution_count": 35,
   "metadata": {
    "tags": []
   },
   "outputs": [
    {
     "name": "stderr",
     "output_type": "stream",
     "text": [
      "\n",
      "WARNING: apt does not have a stable CLI interface. Use with caution in scripts.\n",
      "\n"
     ]
    },
    {
     "name": "stdout",
     "output_type": "stream",
     "text": [
      "Hit:1 http://security.ubuntu.com/ubuntu jammy-security InRelease\n",
      "Get:2 http://nova.clouds.archive.ubuntu.com/ubuntu jammy InRelease [270 kB]\n",
      "Get:3 http://nova.clouds.archive.ubuntu.com/ubuntu jammy-updates InRelease [128 kB]\n",
      "Hit:4 http://nova.clouds.archive.ubuntu.com/ubuntu jammy-backports InRelease\n",
      "Fetched 398 kB in 1s (304 kB/s)\n",
      "Reading package lists...\n",
      "Building dependency tree...\n",
      "Reading state information...\n",
      "87 packages can be upgraded. Run 'apt list --upgradable' to see them.\n"
     ]
    },
    {
     "name": "stderr",
     "output_type": "stream",
     "text": [
      "\n",
      "WARNING: apt does not have a stable CLI interface. Use with caution in scripts.\n",
      "\n"
     ]
    },
    {
     "name": "stdout",
     "output_type": "stream",
     "text": [
      "Reading package lists...\n",
      "Building dependency tree...\n",
      "Reading state information...\n",
      "openjdk-17-jdk is already the newest version (17.0.14+7-1~22.04.1).\n",
      "0 upgraded, 0 newly installed, 0 to remove and 87 not upgraded.\n"
     ]
    },
    {
     "name": "stderr",
     "output_type": "stream",
     "text": [
      "openjdk version \"17.0.14\" 2025-01-21\n",
      "OpenJDK Runtime Environment (build 17.0.14+7-Ubuntu-122.04.1)\n",
      "OpenJDK 64-Bit Server VM (build 17.0.14+7-Ubuntu-122.04.1, mixed mode, sharing)\n"
     ]
    },
    {
     "name": "stdout",
     "output_type": "stream",
     "text": [
      "Get:1 http://nova.clouds.archive.ubuntu.com/ubuntu jammy InRelease [270 kB]\n",
      "Hit:2 http://security.ubuntu.com/ubuntu jammy-security InRelease\n",
      "Get:3 http://nova.clouds.archive.ubuntu.com/ubuntu jammy-updates InRelease [128 kB]\n",
      "Get:4 http://nova.clouds.archive.ubuntu.com/ubuntu jammy-backports InRelease [127 kB]\n",
      "Fetched 525 kB in 1s (568 kB/s)\n",
      "Reading package lists...\n",
      "Reading package lists...\n",
      "Building dependency tree...\n",
      "Reading state information...\n",
      "python2.7 is already the newest version (2.7.18-13ubuntu1.5).\n",
      "0 upgraded, 0 newly installed, 0 to remove and 87 not upgraded.\n",
      "Reading package lists...\n",
      "Building dependency tree...\n",
      "Reading state information...\n",
      "python-pip is already the newest version (20.3.4+dfsg-4).\n",
      "0 upgraded, 0 newly installed, 0 to remove and 87 not upgraded.\n",
      "Reading package lists...\n",
      "Building dependency tree...\n",
      "Reading state information...\n",
      "bc is already the newest version (1.07.1-3build1).\n",
      "0 upgraded, 0 newly installed, 0 to remove and 87 not upgraded.\n"
     ]
    },
    {
     "name": "stderr",
     "output_type": "stream",
     "text": [
      "DEPRECATION: Python 2.7 reached the end of its life on January 1st, 2020. Please upgrade your Python as Python 2.7 is no longer maintained. pip 21.0 will drop support for Python 2.7 in January 2021. More details about Python 2 support in pip can be found at https://pip.pypa.io/en/latest/development/release-process/#python-2-support pip 21.0 will remove support for this functionality.\n"
     ]
    },
    {
     "name": "stdout",
     "output_type": "stream",
     "text": [
      "Requirement already satisfied: antlr4-python2-runtime in /usr/local/lib/python2.7/dist-packages (4.7.1)\n",
      "Requirement already satisfied: six in /usr/local/lib/python2.7/dist-packages (1.17.0)\n",
      "Requirement already satisfied: astunparse in /usr/local/lib/python2.7/dist-packages (1.6.3)\n",
      "Requirement already satisfied: ast in /usr/local/lib/python2.7/dist-packages (0.0.2)\n",
      "Requirement already satisfied: pystan in /usr/local/lib/python2.7/dist-packages (2.19.1.1)\n",
      "Requirement already satisfied: edward in /usr/local/lib/python2.7/dist-packages (1.3.5)\n",
      "Requirement already satisfied: pyro-ppl==0.2.1 in /usr/local/lib/python2.7/dist-packages (0.2.1)\n",
      "Requirement already satisfied: tensorflow==1.5.0 in /usr/local/lib/python2.7/dist-packages (1.5.0)\n",
      "Requirement already satisfied: pandas in /usr/local/lib/python2.7/dist-packages (0.24.2)\n",
      "Requirement already satisfied: wheel<1.0,>=0.23.0 in /usr/local/lib/python2.7/dist-packages (from astunparse) (0.37.1)\n",
      "Requirement already satisfied: numpy>=1.7 in /usr/local/lib/python2.7/dist-packages (from pystan) (1.16.6)\n",
      "Requirement already satisfied: Cython!=0.25.1,>=0.22 in /usr/local/lib/python2.7/dist-packages (from pystan) (3.0.12)\n",
      "Requirement already satisfied: contextlib2 in /usr/local/lib/python2.7/dist-packages (from pyro-ppl==0.2.1) (0.6.0.post1)\n",
      "Requirement already satisfied: graphviz>=0.8 in /usr/local/lib/python2.7/dist-packages (from pyro-ppl==0.2.1) (0.16)\n",
      "Requirement already satisfied: networkx>=2.0.0 in /usr/local/lib/python2.7/dist-packages (from pyro-ppl==0.2.1) (2.2)\n",
      "Requirement already satisfied: torch>=0.4.0 in /usr/local/lib/python2.7/dist-packages (from pyro-ppl==0.2.1) (0.4.0)\n",
      "Requirement already satisfied: backports.weakref>=1.0rc1 in /usr/local/lib/python2.7/dist-packages (from tensorflow==1.5.0) (1.0.post1)\n",
      "Requirement already satisfied: absl-py>=0.1.6 in /usr/local/lib/python2.7/dist-packages (from tensorflow==1.5.0) (0.15.0)\n",
      "Requirement already satisfied: protobuf>=3.4.0 in /usr/local/lib/python2.7/dist-packages (from tensorflow==1.5.0) (3.17.3)\n",
      "Requirement already satisfied: enum34>=1.1.6 in /usr/local/lib/python2.7/dist-packages (from tensorflow==1.5.0) (1.1.10)\n",
      "Requirement already satisfied: tensorflow-tensorboard<1.6.0,>=1.5.0 in /usr/local/lib/python2.7/dist-packages (from tensorflow==1.5.0) (1.5.1)\n",
      "Requirement already satisfied: mock>=2.0.0 in /usr/local/lib/python2.7/dist-packages (from tensorflow==1.5.0) (3.0.5)\n",
      "Requirement already satisfied: pytz>=2011k in /usr/local/lib/python2.7/dist-packages (from pandas) (2025.1)\n",
      "Requirement already satisfied: python-dateutil>=2.5.0 in /usr/local/lib/python2.7/dist-packages (from pandas) (2.9.0.post0)\n",
      "Requirement already satisfied: decorator>=4.3.0 in /usr/local/lib/python2.7/dist-packages (from networkx>=2.0.0->pyro-ppl==0.2.1) (4.4.2)\n",
      "Requirement already satisfied: werkzeug>=0.11.10 in /usr/local/lib/python2.7/dist-packages (from tensorflow-tensorboard<1.6.0,>=1.5.0->tensorflow==1.5.0) (1.0.1)\n",
      "Requirement already satisfied: markdown>=2.6.8 in /usr/local/lib/python2.7/dist-packages (from tensorflow-tensorboard<1.6.0,>=1.5.0->tensorflow==1.5.0) (3.1.1)\n",
      "Requirement already satisfied: html5lib==0.9999999 in /usr/local/lib/python2.7/dist-packages (from tensorflow-tensorboard<1.6.0,>=1.5.0->tensorflow==1.5.0) (0.9999999)\n",
      "Requirement already satisfied: bleach==1.5.0 in /usr/local/lib/python2.7/dist-packages (from tensorflow-tensorboard<1.6.0,>=1.5.0->tensorflow==1.5.0) (1.5.0)\n",
      "Requirement already satisfied: futures>=3.1.1; python_version < \"3\" in /usr/local/lib/python2.7/dist-packages (from tensorflow-tensorboard<1.6.0,>=1.5.0->tensorflow==1.5.0) (3.4.0)\n",
      "Requirement already satisfied: funcsigs>=1; python_version < \"3.3\" in /usr/local/lib/python2.7/dist-packages (from mock>=2.0.0->tensorflow==1.5.0) (1.0.2)\n",
      "Requirement already satisfied: setuptools>=36 in /usr/lib/python2.7/dist-packages (from markdown>=2.6.8->tensorflow-tensorboard<1.6.0,>=1.5.0->tensorflow==1.5.0) (44.1.1)\n"
     ]
    },
    {
     "name": "stderr",
     "output_type": "stream",
     "text": [
      "DEPRECATION: Python 2.7 reached the end of its life on January 1st, 2020. Please upgrade your Python as Python 2.7 is no longer maintained. pip 21.0 will drop support for Python 2.7 in January 2021. More details about Python 2 support in pip can be found at https://pip.pypa.io/en/latest/development/release-process/#python-2-support pip 21.0 will remove support for this functionality.\n"
     ]
    },
    {
     "name": "stdout",
     "output_type": "stream",
     "text": [
      "Requirement already satisfied: torch==0.4.0 from http://download.pytorch.org/whl/cpu/torch-0.4.0-cp27-cp27mu-linux_x86_64.whl in /usr/local/lib/python2.7/dist-packages (0.4.0)\n"
     ]
    },
    {
     "name": "stderr",
     "output_type": "stream",
     "text": [
      "--2025-02-23 16:17:17--  http://www.antlr.org/download/antlr-4.7.1-complete.jar\n",
      "Resolving www.antlr.org (www.antlr.org)... 185.199.108.153, 185.199.109.153, 185.199.111.153, ...\n",
      "Connecting to www.antlr.org (www.antlr.org)|185.199.108.153|:80... connected.\n",
      "HTTP request sent, awaiting response... 301 Moved Permanently\n",
      "Location: https://www.antlr.org/download/antlr-4.7.1-complete.jar [following]\n",
      "--2025-02-23 16:17:17--  https://www.antlr.org/download/antlr-4.7.1-complete.jar\n",
      "Connecting to www.antlr.org (www.antlr.org)|185.199.108.153|:443... connected.\n",
      "HTTP request sent, awaiting response... 200 OK\n",
      "Length: 2240116 (2.1M) [application/java-archive]\n",
      "Saving to: ‘probfuzz/language/antlr/antlr-4.7.1-complete.jar’\n",
      "\n",
      "     0K .......... .......... .......... .......... ..........  2% 7.40M 0s\n",
      "    50K .......... .......... .......... .......... ..........  4% 8.04M 0s\n",
      "   100K .......... .......... .......... .......... ..........  6% 21.3M 0s\n",
      "   150K .......... .......... .......... .......... ..........  9% 60.4M 0s\n",
      "   200K .......... .......... .......... .......... .......... 11% 13.3M 0s\n",
      "   250K .......... .......... .......... .......... .......... 13% 29.0M 0s\n",
      "   300K .......... .......... .......... .......... .......... 15% 79.0M 0s\n",
      "   350K .......... .......... .......... .......... .......... 18%  198M 0s\n",
      "   400K .......... .......... .......... .......... .......... 20% 47.7M 0s\n",
      "   450K .......... .......... .......... .......... .......... 22% 16.4M 0s\n",
      "   500K .......... .......... .......... .......... .......... 25%  187M 0s\n",
      "   550K .......... .......... .......... .......... .......... 27% 34.8M 0s\n",
      "   600K .......... .......... .......... .......... .......... 29%  156M 0s\n",
      "   650K .......... .......... .......... .......... .......... 31%  203M 0s\n",
      "   700K .......... .......... .......... .......... .......... 34%  155M 0s\n",
      "   750K .......... .......... .......... .......... .......... 36%  136M 0s\n",
      "   800K .......... .......... .......... .......... .......... 38%  110M 0s\n",
      "   850K .......... .......... .......... .......... .......... 41%  200M 0s\n",
      "   900K .......... .......... .......... .......... .......... 43%  160M 0s\n",
      "   950K .......... .......... .......... .......... .......... 45% 18.1M 0s\n",
      "  1000K .......... .......... .......... .......... .......... 47%  168M 0s\n",
      "  1050K .......... .......... .......... .......... .......... 50%  202M 0s\n",
      "  1100K .......... .......... .......... .......... .......... 52%  201M 0s\n",
      "  1150K .......... .......... .......... .......... .......... 54%  209M 0s\n",
      "  1200K .......... .......... .......... .......... .......... 57% 71.4M 0s\n",
      "  1250K .......... .......... .......... .......... .......... 59%  189M 0s\n",
      "  1300K .......... .......... .......... .......... .......... 61%  203M 0s\n",
      "  1350K .......... .......... .......... .......... .......... 63%  209M 0s\n",
      "  1400K .......... .......... .......... .......... .......... 66%  186M 0s\n",
      "  1450K .......... .......... .......... .......... .......... 68%  202M 0s\n",
      "  1500K .......... .......... .......... .......... .......... 70%  190M 0s\n",
      "  1550K .......... .......... .......... .......... .......... 73%  196M 0s\n",
      "  1600K .......... .......... .......... .......... .......... 75%  148M 0s\n",
      "  1650K .......... .......... .......... .......... .......... 77%  194M 0s\n",
      "  1700K .......... .......... .......... .......... .......... 79%  196M 0s\n",
      "  1750K .......... .......... .......... .......... .......... 82%  192M 0s\n",
      "  1800K .......... .......... .......... .......... .......... 84%  182M 0s\n",
      "  1850K .......... .......... .......... .......... .......... 86%  202M 0s\n",
      "  1900K .......... .......... .......... .......... .......... 89%  197M 0s\n",
      "  1950K .......... .......... .......... .......... .......... 91% 41.7M 0s\n",
      "  2000K .......... .......... .......... .......... .......... 93%  105M 0s\n",
      "  2050K .......... .......... .......... .......... .......... 95%  197M 0s\n",
      "  2100K .......... .......... .......... .......... .......... 98%  207M 0s\n",
      "  2150K .......... .......... .......... .......              100%  191M=0.04s\n",
      "\n",
      "2025-02-23 16:17:17 (53.2 MB/s) - ‘probfuzz/language/antlr/antlr-4.7.1-complete.jar’ saved [2240116/2240116]\n",
      "\n",
      "DEPRECATION: Python 2.7 reached the end of its life on January 1st, 2020. Please upgrade your Python as Python 2.7 is no longer maintained. pip 21.0 will drop support for Python 2.7 in January 2021. More details about Python 2 support in pip can be found at https://pip.pypa.io/en/latest/development/release-process/#python-2-support pip 21.0 will remove support for this functionality.\n"
     ]
    },
    {
     "name": "stdout",
     "output_type": "stream",
     "text": [
      "Requirement already satisfied: antlr4-python2-runtime==4.7.1 in /usr/local/lib/python2.7/dist-packages (4.7.1)\n",
      "Install successful\n"
     ]
    },
    {
     "name": "stderr",
     "output_type": "stream",
     "text": [
      "/home/cc/probfuzz/backends/edward.py:155: SyntaxWarning: import * only allowed at module level\n",
      "  def visitTemplate(self, ctx):\n"
     ]
    },
    {
     "name": "stdout",
     "output_type": "stream",
     "text": [
      "Output directory : probfuzz/output/progs20250223-161720\n",
      "Starting thread .. 1\n",
      "Running Stan program 1 >>>>\n",
      "Done Stan program 1 >>>>\n",
      "Running Edward program 1 >>>>\n",
      "Done Edward program 1 >>>>\n",
      "Running Pyro program 1 >>>>\n",
      "Done Pyro program 1 >>>>\n",
      "Running Stan program 2 >>>>\n",
      "Done Stan program 2 >>>>\n",
      "Running Edward program 2 >>>>\n",
      "Done Edward program 2 >>>>\n",
      "Running Pyro program 2 >>>>\n",
      "Done Pyro program 2 >>>>\n",
      "Running Stan program 3 >>>>\n",
      "Done Stan program 3 >>>>\n",
      "Running Edward program 3 >>>>\n",
      "Done Edward program 3 >>>>\n",
      "Running Pyro program 3 >>>>\n",
      "Done Pyro program 3 >>>>\n",
      "Running Stan program 4 >>>>\n",
      "Done Stan program 4 >>>>\n",
      "Running Edward program 4 >>>>\n",
      "Done Edward program 4 >>>>\n",
      "Running Pyro program 4 >>>>\n",
      "Done Pyro program 4 >>>>\n",
      "Running Stan program 5 >>>>\n",
      "Done Stan program 5 >>>>\n",
      "Running Edward program 5 >>>>\n",
      "Done Edward program 5 >>>>\n",
      "Running Pyro program 5 >>>>\n",
      "Done Pyro program 5 >>>>\n",
      "Printing summary\n",
      "Summary written in summary.csv\n"
     ]
    },
    {
     "data": {
      "text/plain": [
       "<Result cmd='bash probfuzz/reproduce.sh' exited=0>"
      ]
     },
     "execution_count": 35,
     "metadata": {},
     "output_type": "execute_result"
    }
   ],
   "source": [
    "my_server.execute(\"chmod +x probfuzz/reproduce.sh\")\n",
    "my_server.execute(\"bash probfuzz/reproduce.sh\")"
   ]
  }
 ],
 "metadata": {
  "kernelspec": {
   "display_name": "Python 3 (ipykernel)",
   "language": "python",
   "name": "python3"
  },
  "language_info": {
   "codemirror_mode": {
    "name": "ipython",
    "version": 3
   },
   "file_extension": ".py",
   "mimetype": "text/x-python",
   "name": "python",
   "nbconvert_exporter": "python",
   "pygments_lexer": "ipython3",
   "version": "3.10.9"
  }
 },
 "nbformat": 4,
 "nbformat_minor": 4
}
