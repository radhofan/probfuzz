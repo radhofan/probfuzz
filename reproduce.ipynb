{
 "cells": [
  {
   "cell_type": "markdown",
   "metadata": {
    "tags": [],
    "vscode": {
     "languageId": "plaintext"
    }
   },
   "source": [
    "### This Reproducible Paper Project can be ran either in trovi terminal or jupyter notebook bash in reproduce.ipynb\n",
    "### If you decide to run with the notebook, then dont forget to change the kernel to bash instead of python in the top right corner"
   ]
  },
  {
   "cell_type": "markdown",
   "metadata": {},
   "source": [
    "#### Deactivate default conda env from trovi"
   ]
  },
  {
   "cell_type": "code",
   "execution_count": 1,
   "metadata": {
    "tags": []
   },
   "outputs": [
    {
     "name": "stdout",
     "output_type": "stream",
     "text": [
      "no change     /opt/conda/condabin/conda\n",
      "no change     /opt/conda/bin/conda\n",
      "no change     /opt/conda/bin/conda-env\n",
      "no change     /opt/conda/bin/activate\n",
      "no change     /opt/conda/bin/deactivate\n",
      "no change     /opt/conda/etc/profile.d/conda.sh\n",
      "no change     /opt/conda/etc/fish/conf.d/conda.fish\n",
      "no change     /opt/conda/shell/condabin/Conda.psm1\n",
      "no change     /opt/conda/shell/condabin/conda-hook.ps1\n",
      "no change     /opt/conda/lib/python3.10/site-packages/xontrib/conda.xsh\n",
      "no change     /opt/conda/etc/profile.d/conda.csh\n",
      "modified      /home/radhofanazizi_gmail_com/.bashrc\n",
      "\n",
      "==> For changes to take effect, close and re-open your current shell. <==\n",
      "\n"
     ]
    }
   ],
   "source": [
    "conda init\n",
    "conda deactivate"
   ]
  },
  {
   "cell_type": "markdown",
   "metadata": {},
   "source": [
    "#### For `check.py` and `probfuzz.py`, replace the first shebang line with:\n",
    "```\n",
    "#!/usr/bin/python2\n",
    "```"
   ]
  },
  {
   "cell_type": "markdown",
   "metadata": {},
   "source": [
    "#### For install.sh file, replace last line with:\n",
    "```\n",
    "chmod +x check.py\n",
    "python2 ./check.py\n",
    "```"
   ]
  },
  {
   "cell_type": "markdown",
   "metadata": {},
   "source": [
    "#### Install dependencies"
   ]
  },
  {
   "cell_type": "code",
   "execution_count": 2,
   "metadata": {
    "tags": []
   },
   "outputs": [
    {
     "name": "stdout",
     "output_type": "stream",
     "text": [
      "Get:1 http://archive.ubuntu.com/ubuntu jammy InRelease [270 kB]\n",
      "Get:2 http://archive.ubuntu.com/ubuntu jammy-updates InRelease [128 kB]\n",
      "Get:3 http://archive.ubuntu.com/ubuntu jammy-backports InRelease [127 kB]\n",
      "Get:4 http://security.ubuntu.com/ubuntu jammy-security InRelease [129 kB]\n",
      "Get:5 http://archive.ubuntu.com/ubuntu jammy/main amd64 Packages [1,792 kB]\n",
      "Get:6 http://archive.ubuntu.com/ubuntu jammy/multiverse amd64 Packages [266 kB]\n",
      "Get:7 http://archive.ubuntu.com/ubuntu jammy/restricted amd64 Packages [164 kB]\n",
      "Get:8 http://archive.ubuntu.com/ubuntu jammy/universe amd64 Packages [17.5 MB]\n",
      "Get:9 http://archive.ubuntu.com/ubuntu jammy-updates/main amd64 Packages [2,912 kB]\n",
      "Get:10 http://archive.ubuntu.com/ubuntu jammy-updates/universe amd64 Packages [1,526 kB]\n",
      "Get:11 http://archive.ubuntu.com/ubuntu jammy-updates/restricted amd64 Packages [3,748 kB]\n",
      "Get:12 http://security.ubuntu.com/ubuntu jammy-security/main amd64 Packages [2,610 kB]\n",
      "Get:13 http://archive.ubuntu.com/ubuntu jammy-updates/multiverse amd64 Packages [53.3 kB]\n",
      "Get:14 http://archive.ubuntu.com/ubuntu jammy-backports/universe amd64 Packages [35.2 kB]\n",
      "Get:15 http://archive.ubuntu.com/ubuntu jammy-backports/main amd64 Packages [81.4 kB]\n",
      "Get:16 http://security.ubuntu.com/ubuntu jammy-security/multiverse amd64 Packages [45.2 kB]\n",
      "Get:17 http://security.ubuntu.com/ubuntu jammy-security/restricted amd64 Packages [3,612 kB]\n",
      "Get:18 http://security.ubuntu.com/ubuntu jammy-security/universe amd64 Packages [1,230 kB]\n",
      "Fetched 36.2 MB in 13s (2,827 kB/s)                                            \n",
      "Reading package lists... 0%Reading package lists... 0%Reading package lists... 0%Reading package lists... 4%Reading package lists... 4%Reading package lists... 5%Reading package lists... 5%Reading package lists... 11%Reading package lists... 26%Reading package lists... 39%Reading package lists... 49%Reading package lists... 49%Reading package lists... 49%Reading package lists... 49%Reading package lists... 50%Reading package lists... 58%Reading package lists... 58%Reading package lists... 62%Reading package lists... 70%Reading package lists... 70%Reading package lists... 75%Reading package lists... 75%Reading package lists... 75%Reading package lists... 75%Reading package lists... 75%Reading package lists... 75%Reading package lists... 76%Reading package lists... 76%Reading package lists... 76%Reading package lists... 84%Reading package lists... 84%Reading package lists... 95%Reading package lists... 95%Reading package lists... 99%Reading package lists... 99%Reading package lists... 99%Reading package lists... 99%Reading package lists... Done\n",
      "Reading package lists... 0%Reading package lists... 0%Reading package lists... 0%Reading package lists... 4%Reading package lists... 4%Reading package lists... 5%Reading package lists... 5%Reading package lists... 9%Reading package lists... 27%Reading package lists... 37%Reading package lists... 47%Reading package lists... 49%Reading package lists... 49%Reading package lists... 49%Reading package lists... 49%Reading package lists... 57%Reading package lists... 58%Reading package lists... 58%Reading package lists... 70%Reading package lists... 70%Reading package lists... 73%Reading package lists... 75%Reading package lists... 75%Reading package lists... 75%Reading package lists... 75%Reading package lists... 75%Reading package lists... 75%Reading package lists... 76%Reading package lists... 76%Reading package lists... 84%Reading package lists... 84%Reading package lists... 91%Reading package lists... 95%Reading package lists... 95%Reading package lists... 99%Reading package lists... 99%Reading package lists... 99%Reading package lists... 99%Reading package lists... Done\n",
      "Building dependency tree... 0%Building dependency tree... 0%Building dependency tree... 21%Building dependency tree... 50%Building dependency tree... 50%Building dependency tree... 65%Building dependency tree... Done\n",
      "Reading state information... 0% Reading state information... 0%Reading state information... Done\n",
      "The following additional packages will be installed:\n",
      "  libpython2.7-minimal libpython2.7-stdlib python2.7-minimal\n",
      "Suggested packages:\n",
      "  python2.7-doc binfmt-support\n",
      "The following NEW packages will be installed:\n",
      "  libpython2.7-minimal libpython2.7-stdlib python2.7 python2.7-minimal\n",
      "0 upgraded, 4 newly installed, 0 to remove and 73 not upgraded.\n",
      "Need to get 3,974 kB of archives.\n",
      "After this operation, 16.0 MB of additional disk space will be used.\n",
      "Get:1 http://archive.ubuntu.com/ubuntu jammy-updates/universe amd64 libpython2.7-minimal amd64 2.7.18-13ubuntu1.5 [347 kB]\n",
      "Get:2 http://archive.ubuntu.com/ubuntu jammy-updates/universe amd64 python2.7-minimal amd64 2.7.18-13ubuntu1.5 [1,400 kB]\n",
      "Get:3 http://archive.ubuntu.com/ubuntu jammy-updates/universe amd64 libpython2.7-stdlib amd64 2.7.18-13ubuntu1.5 [1,977 kB]\n",
      "Get:4 http://archive.ubuntu.com/ubuntu jammy-updates/universe amd64 python2.7 amd64 2.7.18-13ubuntu1.5 [250 kB]\n",
      "Fetched 3,974 kB in 3s (1,137 kB/s) \n",
      "debconf: delaying package configuration, since apt-utils is not installed\n",
      "Selecting previously unselected package libpython2.7-minimal:amd64.\n",
      "(Reading database ... 47543 files and directories currently installed.)\n",
      "Preparing to unpack .../libpython2.7-minimal_2.7.18-13ubuntu1.5_amd64.deb ...\n",
      "Unpacking libpython2.7-minimal:amd64 (2.7.18-13ubuntu1.5) ...\n",
      "Selecting previously unselected package python2.7-minimal.\n",
      "Preparing to unpack .../python2.7-minimal_2.7.18-13ubuntu1.5_amd64.deb ...\n",
      "Unpacking python2.7-minimal (2.7.18-13ubuntu1.5) ...\n",
      "Selecting previously unselected package libpython2.7-stdlib:amd64.\n",
      "Preparing to unpack .../libpython2.7-stdlib_2.7.18-13ubuntu1.5_amd64.deb ...\n",
      "Unpacking libpython2.7-stdlib:amd64 (2.7.18-13ubuntu1.5) ...\n",
      "Selecting previously unselected package python2.7.\n",
      "Preparing to unpack .../python2.7_2.7.18-13ubuntu1.5_amd64.deb ...\n",
      "Unpacking python2.7 (2.7.18-13ubuntu1.5) ...\n",
      "Setting up libpython2.7-minimal:amd64 (2.7.18-13ubuntu1.5) ...\n",
      "Setting up python2.7-minimal (2.7.18-13ubuntu1.5) ...\n",
      "Linking and byte-compiling packages for runtime python2.7...\n",
      "Setting up libpython2.7-stdlib:amd64 (2.7.18-13ubuntu1.5) ...\n",
      "Setting up python2.7 (2.7.18-13ubuntu1.5) ...\n",
      "Reading package lists... 0%Reading package lists... 0%Reading package lists... 0%Reading package lists... 4%Reading package lists... 4%Reading package lists... 5%Reading package lists... 5%Reading package lists... 8%Reading package lists... 26%Reading package lists... 38%Reading package lists... 49%Reading package lists... 49%Reading package lists... 49%Reading package lists... 49%Reading package lists... 50%Reading package lists... 58%Reading package lists... 58%Reading package lists... 63%Reading package lists... 70%Reading package lists... 70%Reading package lists... 75%Reading package lists... 75%Reading package lists... 75%Reading package lists... 75%Reading package lists... 75%Reading package lists... 75%Reading package lists... 76%Reading package lists... 76%Reading package lists... 76%Reading package lists... 84%Reading package lists... 84%Reading package lists... 95%Reading package lists... 95%Reading package lists... 99%Reading package lists... 99%Reading package lists... 99%Reading package lists... 99%Reading package lists... Done\n",
      "Building dependency tree... 0%Building dependency tree... 0%Building dependency tree... 0%Building dependency tree... 50%Building dependency tree... 50%Building dependency tree... 61%Building dependency tree... Done\n",
      "Reading state information... 0% Reading state information... 0%Reading state information... Done\n",
      "The following additional packages will be installed:\n",
      "  libpython2-stdlib python-pkg-resources python-setuptools python2\n",
      "  python2-minimal\n",
      "Suggested packages:\n",
      "  python-setuptools-doc python2-doc python-tk\n",
      "Recommended packages:\n",
      "  python2-dev\n",
      "The following NEW packages will be installed:\n",
      "  libpython2-stdlib python-pip python-pkg-resources python-setuptools python2\n",
      "  python2-minimal\n",
      "0 upgraded, 6 newly installed, 0 to remove and 73 not upgraded.\n",
      "Need to get 1,521 kB of archives.\n",
      "After this operation, 7,130 kB of additional disk space will be used.\n",
      "Get:1 http://archive.ubuntu.com/ubuntu jammy/universe amd64 python2-minimal amd64 2.7.18-3 [20.8 kB]\n",
      "Get:2 http://archive.ubuntu.com/ubuntu jammy/universe amd64 libpython2-stdlib amd64 2.7.18-3 [7,432 B]\n",
      "Get:3 http://archive.ubuntu.com/ubuntu jammy/universe amd64 python2 amd64 2.7.18-3 [9,098 B]\n",
      "Get:4 http://archive.ubuntu.com/ubuntu jammy-updates/universe amd64 python-pkg-resources all 44.1.1-1.2ubuntu0.22.04.1 [128 kB]\n",
      "Get:5 http://archive.ubuntu.com/ubuntu jammy-updates/universe amd64 python-setuptools all 44.1.1-1.2ubuntu0.22.04.1 [334 kB]\n",
      "Get:6 http://archive.ubuntu.com/ubuntu jammy/universe amd64 python-pip all 20.3.4+dfsg-4 [1,021 kB]\n",
      "Fetched 1,521 kB in 3s (463 kB/s)     \n",
      "debconf: delaying package configuration, since apt-utils is not installed\n",
      "Selecting previously unselected package python2-minimal.\n",
      "(Reading database ... 48262 files and directories currently installed.)\n",
      "Preparing to unpack .../python2-minimal_2.7.18-3_amd64.deb ...\n",
      "Unpacking python2-minimal (2.7.18-3) ...\n",
      "Selecting previously unselected package libpython2-stdlib:amd64.\n",
      "Preparing to unpack .../libpython2-stdlib_2.7.18-3_amd64.deb ...\n",
      "Unpacking libpython2-stdlib:amd64 (2.7.18-3) ...\n",
      "Setting up python2-minimal (2.7.18-3) ...\n",
      "Selecting previously unselected package python2.\n",
      "(Reading database ... 48288 files and directories currently installed.)\n",
      "Preparing to unpack .../python2_2.7.18-3_amd64.deb ...\n",
      "Unpacking python2 (2.7.18-3) ...\n",
      "Selecting previously unselected package python-pkg-resources.\n",
      "Preparing to unpack .../python-pkg-resources_44.1.1-1.2ubuntu0.22.04.1_all.deb ...\n",
      "Unpacking python-pkg-resources (44.1.1-1.2ubuntu0.22.04.1) ...\n",
      "Selecting previously unselected package python-setuptools.\n",
      "Preparing to unpack .../python-setuptools_44.1.1-1.2ubuntu0.22.04.1_all.deb ...\n",
      "Unpacking python-setuptools (44.1.1-1.2ubuntu0.22.04.1) ...\n",
      "Selecting previously unselected package python-pip.\n",
      "Preparing to unpack .../python-pip_20.3.4+dfsg-4_all.deb ...\n",
      "Unpacking python-pip (20.3.4+dfsg-4) ...\n",
      "Setting up libpython2-stdlib:amd64 (2.7.18-3) ...\n",
      "Setting up python2 (2.7.18-3) ...\n",
      "Setting up python-pkg-resources (44.1.1-1.2ubuntu0.22.04.1) ...\n",
      "Setting up python-setuptools (44.1.1-1.2ubuntu0.22.04.1) ...\n",
      "Setting up python-pip (20.3.4+dfsg-4) ...\n",
      "Reading package lists... 0%Reading package lists... 0%Reading package lists... 0%Reading package lists... 4%Reading package lists... 4%Reading package lists... 5%Reading package lists... 5%Reading package lists... 8%Reading package lists... 26%Reading package lists... 42%Reading package lists... 49%Reading package lists... 49%Reading package lists... 49%Reading package lists... 49%Reading package lists... 53%Reading package lists... 58%Reading package lists... 58%Reading package lists... 70%Reading package lists... 70%Reading package lists... 70%Reading package lists... 75%Reading package lists... 75%Reading package lists... 75%Reading package lists... 75%Reading package lists... 75%Reading package lists... 75%Reading package lists... 76%Reading package lists... 76%Reading package lists... 84%Reading package lists... 84%Reading package lists... 84%Reading package lists... 95%Reading package lists... 95%Reading package lists... 99%Reading package lists... 99%Reading package lists... 99%Reading package lists... 99%Reading package lists... Done\n",
      "Building dependency tree... 0%Building dependency tree... 0%Building dependency tree... 4%Building dependency tree... 50%Building dependency tree... 50%Building dependency tree... 68%Building dependency tree... Done\n",
      "Reading state information... 0% Reading state information... 0%Reading state information... Done\n",
      "The following NEW packages will be installed:\n",
      "  bc\n",
      "0 upgraded, 1 newly installed, 0 to remove and 73 not upgraded.\n",
      "Need to get 87.6 kB of archives.\n",
      "After this operation, 220 kB of additional disk space will be used.\n",
      "Get:1 http://archive.ubuntu.com/ubuntu jammy/main amd64 bc amd64 1.07.1-3build1 [87.6 kB]\n",
      "Fetched 87.6 kB in 2s (51.8 kB/s)    \n",
      "debconf: delaying package configuration, since apt-utils is not installed\n",
      "Selecting previously unselected package bc.\n",
      "(Reading database ... 48935 files and directories currently installed.)\n",
      "Preparing to unpack .../bc_1.07.1-3build1_amd64.deb ...\n",
      "Unpacking bc (1.07.1-3build1) ...\n",
      "Setting up bc (1.07.1-3build1) ...\n",
      "\u001b[33mDEPRECATION: Python 2.7 reached the end of its life on January 1st, 2020. Please upgrade your Python as Python 2.7 is no longer maintained. pip 21.0 will drop support for Python 2.7 in January 2021. More details about Python 2 support in pip can be found at https://pip.pypa.io/en/latest/development/release-process/#python-2-support pip 21.0 will remove support for this functionality.\u001b[0m\n",
      "Collecting antlr4-python2-runtime\n",
      "  Downloading antlr4-python2-runtime-4.13.0.tar.gz (114 kB)\n",
      "\u001b[K     |████████████████████████████████| 114 kB 1.4 MB/s eta 0:00:01\n",
      "\u001b[?25hCollecting six\n",
      "  Downloading six-1.17.0-py2.py3-none-any.whl (11 kB)\n",
      "Collecting astunparse\n",
      "  Downloading astunparse-1.6.3-py2.py3-none-any.whl (12 kB)\n",
      "Collecting ast\n",
      "  Downloading AST-0.0.2-py2-none-any.whl (23 kB)\n",
      "Collecting pystan\n",
      "  Downloading pystan-2.19.1.1-cp27-cp27mu-manylinux1_x86_64.whl (67.2 MB)\n",
      "\u001b[K     |████████████████████████████████| 67.2 MB 61.5 MB/s eta 0:00:01\n",
      "\u001b[?25hCollecting edward\n",
      "  Downloading edward-1.3.5-py2-none-any.whl (91 kB)\n",
      "\u001b[K     |████████████████████████████████| 91 kB 33.9 MB/s eta 0:00:01\n",
      "\u001b[?25hCollecting pyro-ppl==0.2.1\n",
      "  Downloading pyro-ppl-0.2.1.tar.gz (108 kB)\n",
      "\u001b[K     |████████████████████████████████| 108 kB 34.8 MB/s eta 0:00:01\n",
      "\u001b[?25hCollecting tensorflow==1.5.0\n",
      "  Downloading tensorflow-1.5.0-cp27-cp27mu-manylinux1_x86_64.whl (44.4 MB)\n",
      "\u001b[K     |████████████████████████████████| 44.4 MB 64 kB/s eta 0:00:0101\n",
      "\u001b[?25hCollecting pandas\n",
      "  Downloading pandas-0.24.2-cp27-cp27mu-manylinux1_x86_64.whl (10.1 MB)\n",
      "\u001b[K     |████████████████████████████████| 10.1 MB 1.1 MB/s eta 0:00:01\n",
      "\u001b[?25hCollecting wheel<1.0,>=0.23.0\n",
      "  Downloading wheel-0.37.1-py2.py3-none-any.whl (35 kB)\n",
      "Collecting numpy>=1.7\n",
      "  Downloading numpy-1.16.6-cp27-cp27mu-manylinux1_x86_64.whl (17.0 MB)\n",
      "\u001b[K     |████████████████████████████████| 17.0 MB 55.9 MB/s eta 0:00:01\n",
      "\u001b[?25hCollecting Cython!=0.25.1,>=0.22\n",
      "  Downloading Cython-3.0.12-py2.py3-none-any.whl (1.2 MB)\n",
      "\u001b[K     |████████████████████████████████| 1.2 MB 36.0 MB/s eta 0:00:01\n",
      "\u001b[?25hCollecting contextlib2\n",
      "  Downloading contextlib2-0.6.0.post1-py2.py3-none-any.whl (9.8 kB)\n",
      "Collecting graphviz>=0.8\n",
      "  Downloading graphviz-0.16-py2.py3-none-any.whl (19 kB)\n",
      "Collecting networkx>=2.0.0\n",
      "  Downloading networkx-2.2.zip (1.7 MB)\n",
      "\u001b[K     |████████████████████████████████| 1.7 MB 23.9 MB/s eta 0:00:01\n",
      "\u001b[?25hCollecting torch>=0.4.0\n",
      "  Downloading torch-1.4.0-cp27-cp27mu-manylinux1_x86_64.whl (753.4 MB)\n",
      "\u001b[?25hCollecting backports.weakref>=1.0rc1 726.8 MB 46 kB/s eta 0:09:3465\n",
      "  Downloading backports.weakref-1.0.post1-py2.py3-none-any.whl (5.2 kB)\n",
      "Collecting absl-py>=0.1.6\n",
      "  Downloading absl-py-0.15.0.tar.gz (114 kB)\n",
      "\u001b[K     |████████████████████████████████| 114 kB 36.2 MB/s eta 0:00:01\n",
      "\u001b[?25hCollecting protobuf>=3.4.0\n",
      "  Downloading protobuf-3.17.3-cp27-cp27mu-manylinux_2_5_x86_64.manylinux1_x86_64.whl (1.0 MB)\n",
      "\u001b[K     |████████████████████████████████| 1.0 MB 1.3 MB/s eta 0:00:01\n",
      "\u001b[?25hCollecting enum34>=1.1.6\n",
      "  Downloading enum34-1.1.10-py2-none-any.whl (11 kB)\n",
      "Collecting tensorflow-tensorboard<1.6.0,>=1.5.0\n",
      "  Downloading tensorflow_tensorboard-1.5.1-py2-none-any.whl (3.0 MB)\n",
      "\u001b[K     |████████████████████████████████| 3.0 MB 6.8 MB/s eta 0:00:01\n",
      "\u001b[?25hCollecting mock>=2.0.0\n",
      "  Downloading mock-3.0.5-py2.py3-none-any.whl (25 kB)\n",
      "Collecting pytz>=2011k\n",
      "  Downloading pytz-2025.1-py2.py3-none-any.whl (507 kB)\n",
      "\u001b[K     |████████████████████████████████| 507 kB 46.7 MB/s eta 0:00:01\n",
      "\u001b[?25hCollecting python-dateutil>=2.5.0\n",
      "  Downloading python_dateutil-2.9.0.post0-py2.py3-none-any.whl (229 kB)\n",
      "\u001b[K     |████████████████████████████████| 229 kB 30.6 MB/s eta 0:00:01\n",
      "\u001b[?25hCollecting decorator>=4.3.0\n",
      "  Downloading decorator-4.4.2-py2.py3-none-any.whl (9.2 kB)\n",
      "Collecting werkzeug>=0.11.10\n",
      "  Downloading Werkzeug-1.0.1-py2.py3-none-any.whl (298 kB)\n",
      "\u001b[K     |████████████████████████████████| 298 kB 34.3 MB/s eta 0:00:01\n",
      "\u001b[?25hCollecting markdown>=2.6.8\n",
      "  Downloading Markdown-3.1.1-py2.py3-none-any.whl (87 kB)\n",
      "\u001b[K     |████████████████████████████████| 87 kB 25.5 MB/s eta 0:00:01\n",
      "\u001b[?25hCollecting html5lib==0.9999999\n",
      "  Downloading html5lib-0.9999999.tar.gz (889 kB)\n",
      "\u001b[K     |████████████████████████████████| 889 kB 24.6 MB/s eta 0:00:01\n",
      "\u001b[?25hCollecting bleach==1.5.0\n",
      "  Downloading bleach-1.5.0-py2.py3-none-any.whl (17 kB)\n",
      "Collecting futures>=3.1.1; python_version < \"3\"\n",
      "  Downloading futures-3.4.0-py2-none-any.whl (16 kB)\n",
      "Collecting funcsigs>=1; python_version < \"3.3\"\n",
      "  Downloading funcsigs-1.0.2-py2.py3-none-any.whl (17 kB)\n",
      "Requirement already satisfied: setuptools>=36 in /usr/lib/python2.7/dist-packages (from markdown>=2.6.8->tensorflow-tensorboard<1.6.0,>=1.5.0->tensorflow==1.5.0) (44.1.1)\n",
      "Using legacy 'setup.py install' for antlr4-python2-runtime, since package 'wheel' is not installed.\n",
      "Using legacy 'setup.py install' for pyro-ppl, since package 'wheel' is not installed.\n",
      "Using legacy 'setup.py install' for networkx, since package 'wheel' is not installed.\n",
      "Using legacy 'setup.py install' for absl-py, since package 'wheel' is not installed.\n",
      "Using legacy 'setup.py install' for html5lib, since package 'wheel' is not installed.\n",
      "Installing collected packages: antlr4-python2-runtime, six, wheel, astunparse, ast, numpy, Cython, pystan, edward, contextlib2, graphviz, decorator, networkx, torch, pyro-ppl, backports.weakref, enum34, absl-py, protobuf, werkzeug, markdown, html5lib, bleach, futures, tensorflow-tensorboard, funcsigs, mock, tensorflow, pytz, python-dateutil, pandas\n",
      "    Running setup.py install for antlr4-python2-runtime ... \u001b[?25ldone\n",
      "\u001b[?25h    Running setup.py install for networkx ... \u001b[?25ldone\n",
      "\u001b[?25h    Running setup.py install for pyro-ppl ... \u001b[?25ldone\n",
      "\u001b[?25h    Running setup.py install for absl-py ... \u001b[?25ldone\n",
      "\u001b[?25h    Running setup.py install for html5lib ... \u001b[?25ldone\n",
      "\u001b[?25hSuccessfully installed Cython-3.0.12 absl-py-0.15.0 antlr4-python2-runtime-4.13.0 ast-0.0.2 astunparse-1.6.3 backports.weakref-1.0.post1 bleach-1.5.0 contextlib2-0.6.0.post1 decorator-4.4.2 edward-1.3.5 enum34-1.1.10 funcsigs-1.0.2 futures-3.4.0 graphviz-0.16 html5lib-0.9999999 markdown-3.1.1 mock-3.0.5 networkx-2.2 numpy-1.16.6 pandas-0.24.2 protobuf-3.17.3 pyro-ppl-0.2.1 pystan-2.19.1.1 python-dateutil-2.9.0.post0 pytz-2025.1 six-1.17.0 tensorflow-1.5.0 tensorflow-tensorboard-1.5.1 torch-1.4.0 werkzeug-1.0.1 wheel-0.37.1\n",
      "\u001b[33mDEPRECATION: Python 2.7 reached the end of its life on January 1st, 2020. Please upgrade your Python as Python 2.7 is no longer maintained. pip 21.0 will drop support for Python 2.7 in January 2021. More details about Python 2 support in pip can be found at https://pip.pypa.io/en/latest/development/release-process/#python-2-support pip 21.0 will remove support for this functionality.\u001b[0m\n",
      "Collecting torch==0.4.0\n",
      "  Downloading http://download.pytorch.org/whl/cpu/torch-0.4.0-cp27-cp27mu-linux_x86_64.whl (79.1 MB)\n",
      "\u001b[K     |████████████████████████████████| 79.1 MB 253 kB/s eta 0:00:011\n",
      "\u001b[?25hInstalling collected packages: torch\n",
      "  Attempting uninstall: torch\n",
      "    Found existing installation: torch 1.4.0\n",
      "    Uninstalling torch-1.4.0:\n",
      "      Successfully uninstalled torch-1.4.0\n",
      "Successfully installed torch-0.4.0\n",
      "--2025-02-19 06:26:53--  http://www.antlr.org/download/antlr-4.7.1-complete.jar\n",
      "Resolving www.antlr.org (www.antlr.org)... 185.199.109.153, 185.199.108.153, 185.199.110.153, ...\n",
      "Connecting to www.antlr.org (www.antlr.org)|185.199.109.153|:80... connected.\n",
      "HTTP request sent, awaiting response... 301 Moved Permanently\n",
      "Location: https://www.antlr.org/download/antlr-4.7.1-complete.jar [following]\n",
      "--2025-02-19 06:26:55--  https://www.antlr.org/download/antlr-4.7.1-complete.jar\n",
      "Connecting to www.antlr.org (www.antlr.org)|185.199.109.153|:443... connected.\n",
      "HTTP request sent, awaiting response... 200 OK\n",
      "Length: 2240116 (2.1M) [application/java-archive]\n",
      "Saving to: ‘antlr-4.7.1-complete.jar’\n",
      "\n",
      "antlr-4.7.1-complet 100%[===================>]   2.14M  --.-KB/s    in 0.1s    \n",
      "\n",
      "2025-02-19 06:26:56 (14.7 MB/s) - ‘antlr-4.7.1-complete.jar’ saved [2240116/2240116]\n",
      "\n",
      "./run.sh: line 4: java: command not found\n",
      "Install successful\n"
     ]
    }
   ],
   "source": [
    "sudo ./install.sh"
   ]
  },
  {
   "cell_type": "markdown",
   "metadata": {},
   "source": [
    "#### Install antler 4.7.1 inside trovi again since it gives error using the normal install.sh"
   ]
  },
  {
   "cell_type": "code",
   "execution_count": 3,
   "metadata": {
    "tags": []
   },
   "outputs": [
    {
     "name": "stdout",
     "output_type": "stream",
     "text": [
      "\u001b[33mDEPRECATION: Python 2.7 reached the end of its life on January 1st, 2020. Please upgrade your Python as Python 2.7 is no longer maintained. pip 21.0 will drop support for Python 2.7 in January 2021. More details about Python 2 support in pip can be found at https://pip.pypa.io/en/latest/development/release-process/#python-2-support pip 21.0 will remove support for this functionality.\u001b[0m\n",
      "Collecting antlr4-python2-runtime==4.7.1\n",
      "  Downloading antlr4-python2-runtime-4.7.1.tar.gz (111 kB)\n",
      "\u001b[K     |████████████████████████████████| 111 kB 1.0 MB/s eta 0:00:01\n",
      "\u001b[?25hBuilding wheels for collected packages: antlr4-python2-runtime\n",
      "  Building wheel for antlr4-python2-runtime (setup.py) ... \u001b[?25ldone\n",
      "\u001b[?25h  Created wheel for antlr4-python2-runtime: filename=antlr4_python2_runtime-4.7.1-py2-none-any.whl size=140332 sha256=d9618da071b00c5ee68b3409d896d77b505a3e80605a88bb710a7cac3ac8699e\n",
      "  Stored in directory: /home/radhofanazizi_gmail_com/.cache/pip/wheels/92/e9/cd/cba2a81b5ce7fb940ea123148c0345c1afbe70ffa48d1c3e97\n",
      "Successfully built antlr4-python2-runtime\n",
      "Installing collected packages: antlr4-python2-runtime\n",
      "Successfully installed antlr4-python2-runtime-4.7.1\n"
     ]
    }
   ],
   "source": [
    "pip2 install antlr4-python2-runtime==4.7.1"
   ]
  },
  {
   "cell_type": "markdown",
   "metadata": {},
   "source": [
    "#### Run probfuzz:  "
   ]
  },
  {
   "cell_type": "code",
   "execution_count": null,
   "metadata": {},
   "outputs": [],
   "source": [
    "python2 ./probfuzz.py 5"
   ]
  }
 ],
 "metadata": {
  "kernelspec": {
   "display_name": "Bash",
   "language": "bash",
   "name": "bash"
  },
  "language_info": {
   "codemirror_mode": "shell",
   "file_extension": ".sh",
   "mimetype": "text/x-sh",
   "name": "bash"
  }
 },
 "nbformat": 4,
 "nbformat_minor": 4
}
